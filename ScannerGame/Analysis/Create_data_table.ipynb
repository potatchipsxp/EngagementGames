{
 "cells": [
  {
   "cell_type": "code",
   "execution_count": 1,
   "metadata": {},
   "outputs": [],
   "source": [
    "%matplotlib inline\n",
    "import matplotlib.pyplot as plt\n",
    "import glob\n",
    "import os\n",
    "import pandas as pd\n",
    "import numpy as np\n",
    "import csv\n",
    "import math"
   ]
  },
  {
   "cell_type": "markdown",
   "metadata": {},
   "source": [
    "## Parse Log Files"
   ]
  },
  {
   "cell_type": "code",
   "execution_count": 2,
   "metadata": {},
   "outputs": [],
   "source": [
    "#set data folder to whatever you called log files\n",
    "data_folder = \"../logs\""
   ]
  },
  {
   "cell_type": "code",
   "execution_count": 3,
   "metadata": {},
   "outputs": [],
   "source": [
    "# for i, filename in enumerate(glob.iglob(data_folder)):\n",
    "#     print(\"file\", i+1, \":\", filename)"
   ]
  },
  {
   "cell_type": "code",
   "execution_count": 4,
   "metadata": {},
   "outputs": [],
   "source": [
    "df = pd.DataFrame(columns=['ID','device', 'score', 'timebeforebroken', 'Xcord', 'Ycord','Timemousecords', 'CursorStatuses','Q1','Q2','Q3'])"
   ]
  },
  {
   "cell_type": "code",
   "execution_count": 5,
   "metadata": {},
   "outputs": [
    {
     "name": "stdout",
     "output_type": "stream",
     "text": [
      "1002\n",
      "1002\n"
     ]
    }
   ],
   "source": [
    "for i, filename in enumerate(glob.iglob(data_folder + \"/*.log\")):\n",
    "    filelines = open(filename, 'r').read().splitlines()\n",
    "    the_id = \"ANON\"\n",
    "    for line in filelines:\n",
    "        if(line.startswith(\"ID\")):\n",
    "            the_id = line.split(\"!\")[1]\n",
    "        if(line.startswith(\"Date\")):\n",
    "            date = line.split(\"!\")[1]\n",
    "        if(line.startswith(\"device\")):\n",
    "            device = line.split(\"!\")[1]\n",
    "        if(line.startswith(\"leveldata\")):\n",
    "            fields = line.split('!') \n",
    "            score = fields[1]\n",
    "            timebeforebroken = fields[2]\n",
    "            Xcord = [float(i) for i in fields[3].split(',')] \n",
    "            Ycord = [float(i) for i in fields[4].split(',')]\n",
    "            numpoints = len(Xcord)\n",
    "            Timemousecords = [float(i) for i in fields[5].split(',')]\n",
    "            CursorStatuses = fields[6]\n",
    "        if(line.startswith(\"\\\"undefinedQform\")):\n",
    "            Q1 = line.split(\"!\")[1].split(',')[0].split('=')[1]\n",
    "            Q2 = line.split(\"!\")[1].split(',')[1].split('=')[1]\n",
    "            Q3 = line.split(\"!\")[1].split(',')[2].split('=')[1]\n",
    "                # Append new row to data frame\n",
    "        if(line.startswith(\"\\\"undefineddemogQs\")):\n",
    "            CatchQ1 = line.split(\"!\")[1].split(',')[3].split('=')[1]\n",
    "            CatchQ2 = line.split(\"!\")[1].split(',')[6].split('=')[1]\n",
    "            Age = line.split(\"!\")[1].split(',')[0].split('=')[1]\n",
    "            Gender = line.split(\"!\")[1].split(',')[1].split('=')[1]\n",
    "            VG_growing = line.split(\"!\")[1].split(',')[4].split('=')[1]\n",
    "            VG_now = line.split(\"!\")[1].split(',')[5].split('=')[1]\n",
    "    df = df.append({'ID':the_id, 'device':device, 'score':score, 'timebeforebroken':timebeforebroken, 'CursorStatuses':CursorStatuses,  'NumPoints': numpoints,'Xcord':Xcord,\n",
    "                                'Ycord':Ycord, 'Timemousecords':Timemousecords,'Q1':Q1,'Q2':Q2,'Q3':Q3, 'CatchQ1':CatchQ1,'CatchQ2':CatchQ2, 'Age':Age, 'Gender':Gender, 'VG_growing': VG_growing, 'VG_now':VG_now}, ignore_index=True)"
   ]
  },
  {
   "cell_type": "code",
   "execution_count": 7,
   "metadata": {},
   "outputs": [
    {
     "data": {
      "text/html": [
       "<div>\n",
       "<style scoped>\n",
       "    .dataframe tbody tr th:only-of-type {\n",
       "        vertical-align: middle;\n",
       "    }\n",
       "\n",
       "    .dataframe tbody tr th {\n",
       "        vertical-align: top;\n",
       "    }\n",
       "\n",
       "    .dataframe thead th {\n",
       "        text-align: right;\n",
       "    }\n",
       "</style>\n",
       "<table border=\"1\" class=\"dataframe\">\n",
       "  <thead>\n",
       "    <tr style=\"text-align: right;\">\n",
       "      <th></th>\n",
       "      <th>ID</th>\n",
       "      <th>device</th>\n",
       "      <th>score</th>\n",
       "      <th>timebeforebroken</th>\n",
       "      <th>Xcord</th>\n",
       "      <th>Ycord</th>\n",
       "      <th>Timemousecords</th>\n",
       "      <th>CursorStatuses</th>\n",
       "      <th>Q1</th>\n",
       "      <th>Q2</th>\n",
       "      <th>Q3</th>\n",
       "      <th>Age</th>\n",
       "      <th>CatchQ1</th>\n",
       "      <th>CatchQ2</th>\n",
       "      <th>Gender</th>\n",
       "      <th>NumPoints</th>\n",
       "      <th>VG_growing</th>\n",
       "      <th>VG_now</th>\n",
       "    </tr>\n",
       "  </thead>\n",
       "  <tbody>\n",
       "    <tr>\n",
       "      <th>0</th>\n",
       "      <td>ANON</td>\n",
       "      <td>trackpad</td>\n",
       "      <td>1002</td>\n",
       "      <td>60000</td>\n",
       "      <td>[348.0, 353.0, 363.0, 380.0, 386.0, 401.0, 409...</td>\n",
       "      <td>[515.0, 509.0, 502.0, 492.0, 487.0, 467.0, 461...</td>\n",
       "      <td>[1636759531128.0, 1636759531135.0, 16367595311...</td>\n",
       "      <td>normal,normal,normal,normal,normal,normal,norm...</td>\n",
       "      <td>88</td>\n",
       "      <td>12</td>\n",
       "      <td>95</td>\n",
       "      <td>asdfg</td>\n",
       "      <td>10</td>\n",
       "      <td>64</td>\n",
       "      <td>female</td>\n",
       "      <td>142.0</td>\n",
       "      <td>0</td>\n",
       "      <td>0</td>\n",
       "    </tr>\n",
       "  </tbody>\n",
       "</table>\n",
       "</div>"
      ],
      "text/plain": [
       "     ID    device score timebeforebroken  \\\n",
       "0  ANON  trackpad  1002            60000   \n",
       "\n",
       "                                               Xcord  \\\n",
       "0  [348.0, 353.0, 363.0, 380.0, 386.0, 401.0, 409...   \n",
       "\n",
       "                                               Ycord  \\\n",
       "0  [515.0, 509.0, 502.0, 492.0, 487.0, 467.0, 461...   \n",
       "\n",
       "                                      Timemousecords  \\\n",
       "0  [1636759531128.0, 1636759531135.0, 16367595311...   \n",
       "\n",
       "                                      CursorStatuses  Q1  Q2  Q3    Age  \\\n",
       "0  normal,normal,normal,normal,normal,normal,norm...  88  12  95  asdfg   \n",
       "\n",
       "  CatchQ1 CatchQ2  Gender  NumPoints VG_growing VG_now  \n",
       "0      10      64  female      142.0          0      0  "
      ]
     },
     "execution_count": 7,
     "metadata": {},
     "output_type": "execute_result"
    }
   ],
   "source": [
    "df.head()"
   ]
  },
  {
   "cell_type": "code",
   "execution_count": null,
   "metadata": {},
   "outputs": [],
   "source": [
    "df.shape()"
   ]
  },
  {
   "cell_type": "markdown",
   "metadata": {},
   "source": [
    "## Add NumPoint Column and Filter"
   ]
  },
  {
   "cell_type": "code",
   "execution_count": null,
   "metadata": {},
   "outputs": [],
   "source": [
    "# Get rid of particpants who did not play long enough. TODO: Determine proper threshold\n",
    "df = df[df.NumPoints > 1000]"
   ]
  },
  {
   "cell_type": "code",
   "execution_count": null,
   "metadata": {},
   "outputs": [],
   "source": [
    "len(df)"
   ]
  },
  {
   "cell_type": "markdown",
   "metadata": {},
   "source": [
    "## Remove bad data"
   ]
  },
  {
   "cell_type": "code",
   "execution_count": null,
   "metadata": {},
   "outputs": [],
   "source": [
    "print(len(df))"
   ]
  },
  {
   "cell_type": "code",
   "execution_count": null,
   "metadata": {},
   "outputs": [],
   "source": [
    "# Don't want to have to re-run everything above!\n",
    "df_reduced = df.copy()"
   ]
  },
  {
   "cell_type": "code",
   "execution_count": null,
   "metadata": {},
   "outputs": [],
   "source": [
    "# Save all removed rows to a new dataframe for separate viewing\n",
    "df_removed = pd.DataFrame()"
   ]
  },
  {
   "cell_type": "code",
   "execution_count": null,
   "metadata": {},
   "outputs": [],
   "source": [
    "# Focus only on subject using mice\n",
    "df_reduced = df[df.device == 'mouse ']\n",
    "df_reduced = df_reduced[df_reduced.CatchQ1 == '26']\n",
    "df_reduced = df_reduced[df_reduced.CatchQ2 == '17']\n",
    "\n",
    "\n",
    "df_removed = df[df.device != 'mouse '] "
   ]
  },
  {
   "cell_type": "code",
   "execution_count": null,
   "metadata": {},
   "outputs": [],
   "source": [
    "# df_removed['Removal_Reason'] = pd.Series('Not using mouse', index=df_removed.index)"
   ]
  },
  {
   "cell_type": "code",
   "execution_count": null,
   "metadata": {
    "scrolled": true
   },
   "outputs": [],
   "source": [
    "print(len(df_reduced),len(df_removed))"
   ]
  },
  {
   "cell_type": "code",
   "execution_count": null,
   "metadata": {},
   "outputs": [],
   "source": [
    "# df.head()"
   ]
  },
  {
   "cell_type": "code",
   "execution_count": null,
   "metadata": {},
   "outputs": [],
   "source": [
    "# # Dropping eTOUVBgA0OQw because...\n",
    "# df_reduced.drop(['eTOUVBgA0OQw','eTOUVBgA0OQw'])\n",
    "# df_removed.add..."
   ]
  },
  {
   "cell_type": "code",
   "execution_count": null,
   "metadata": {},
   "outputs": [],
   "source": [
    "plt.plot(df_reduced.NumPoints)"
   ]
  },
  {
   "cell_type": "markdown",
   "metadata": {},
   "source": [
    "## Write Finished Table to Pickle and CSV\n",
    "pickle mostly for `data_visualization.ipynb` and csv for `data_analysis.R`"
   ]
  },
  {
   "cell_type": "code",
   "execution_count": null,
   "metadata": {},
   "outputs": [],
   "source": [
    "df_reduced.to_pickle(\"game_data.p\")"
   ]
  },
  {
   "cell_type": "code",
   "execution_count": null,
   "metadata": {},
   "outputs": [],
   "source": [
    "df_reduced.shape"
   ]
  },
  {
   "cell_type": "code",
   "execution_count": null,
   "metadata": {},
   "outputs": [],
   "source": [
    "# df_reduced.to_csv('game_data_300_feb.csv')"
   ]
  },
  {
   "cell_type": "code",
   "execution_count": null,
   "metadata": {},
   "outputs": [],
   "source": []
  },
  {
   "cell_type": "code",
   "execution_count": null,
   "metadata": {},
   "outputs": [],
   "source": []
  },
  {
   "cell_type": "code",
   "execution_count": null,
   "metadata": {},
   "outputs": [],
   "source": []
  }
 ],
 "metadata": {
  "anaconda-cloud": {},
  "kernelspec": {
   "display_name": "Python 3",
   "language": "python",
   "name": "python3"
  },
  "language_info": {
   "codemirror_mode": {
    "name": "ipython",
    "version": 3
   },
   "file_extension": ".py",
   "mimetype": "text/x-python",
   "name": "python",
   "nbconvert_exporter": "python",
   "pygments_lexer": "ipython3",
   "version": "3.8.5"
  }
 },
 "nbformat": 4,
 "nbformat_minor": 1
}
