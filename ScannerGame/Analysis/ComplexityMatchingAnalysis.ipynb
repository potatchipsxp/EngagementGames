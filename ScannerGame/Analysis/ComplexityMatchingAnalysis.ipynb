{
 "cells": [
  {
   "cell_type": "markdown",
   "metadata": {},
   "source": [
    "# Prep"
   ]
  },
  {
   "cell_type": "code",
   "execution_count": null,
   "metadata": {},
   "outputs": [],
   "source": [
    "import numpy as np\n",
    "import pandas as pd\n",
    "from scipy import stats\n",
    "import matplotlib.pyplot as plt\n",
    "# import nolds\n",
    "import seaborn as sns\n",
    "import statsmodels.api as sm\n",
    "import scipy\n",
    "import numpy.polynomial.polynomial as poly\n",
    "import math"
   ]
  },
  {
   "cell_type": "code",
   "execution_count": null,
   "metadata": {},
   "outputs": [],
   "source": [
    "# Import the data\n",
    "rawdata = pd.read_pickle(\"https://mymousetrackingdatabucket.s3-us-west-1.amazonaws.com/data/game_data_300_feb_O.p\")"
   ]
  },
  {
   "cell_type": "code",
   "execution_count": null,
   "metadata": {},
   "outputs": [],
   "source": [
    "# Pickle format converts nueric to str so we convert the necessary variables back to numeric\n",
    "\n",
    "rawdata['Q1int']         = pd.to_numeric(rawdata.Q1) # Reported Engagement\n",
    "rawdata['Q2int']         = pd.to_numeric(rawdata.Q2) # Reported Difficulty\n",
    "rawdata['Q3int']         = pd.to_numeric(rawdata.Q3) # Reported Fun\n",
    "rawdata['dlevel']        = pd.to_numeric(rawdata.difficultylevel) # Actual difficulty\n",
    "rawdata['acr']           = pd.to_numeric(rawdata.accratio) # Actual performance\n",
    "rawdata['stimspeed_num'] = pd.to_numeric(rawdata.stimspeed) # Numeric stimulus speed\n",
    "rawdata['Age']           = pd.to_numeric(rawdata.Age)"
   ]
  },
  {
   "cell_type": "code",
   "execution_count": null,
   "metadata": {},
   "outputs": [],
   "source": [
    "rawdata = rawdata[(np.abs(stats.zscore(rawdata['NumPoints'])) < 2)]"
   ]
  },
  {
   "cell_type": "code",
   "execution_count": null,
   "metadata": {},
   "outputs": [],
   "source": [
    "longestT = max(rawdata.apply(lambda row: pd.to_datetime(row['Timemousecordso'][-1], unit='ms') - pd.to_datetime(row['Timemousecordso'][0], unit='ms'), axis=1))"
   ]
  },
  {
   "cell_type": "code",
   "execution_count": 1,
   "metadata": {},
   "outputs": [],
   "source": [
    "def myInterpFunc(Xcords, Ycords, times, desiredT):\n",
    "# def myInterpFunc(Xcords, Ycords, times):\n",
    "\n",
    "  tempdf = pd.DataFrame(np.asarray([Xcords, Ycords]).T,pd.to_datetime(times, unit='ms'),['Xcord', 'Ycord'])\n",
    "  tempdf = tempdf.reset_index().drop_duplicates(subset='index', keep='last').set_index('index').sort_index()\n",
    "  tempresampled = tempdf.resample(\"20L\").pad()\n",
    "  # tempresampled = tempresampled.resample(\"10L\").interpolate('time')\n",
    "  # tempresampled = tempdf.resample(\"10L\").interpolate(method='polynomial', order=2)\n",
    "\n",
    "  tempresampled.dropna(inplace=True)\n",
    "\n",
    "  tempresampled=tempresampled.reindex(pd.date_range(start = tempresampled.index[0], end=(tempresampled.index[0] + desiredT),freq='20L'), method='nearest')\n",
    "\n",
    "  return [np.asarray(tempresampled.Xcord), np.asarray(tempresampled.Ycord), np.asarray(tempresampled.index)]"
   ]
  },
  {
   "cell_type": "code",
   "execution_count": null,
   "metadata": {},
   "outputs": [],
   "source": [
    "df_Jan[['iXcords','iYcords','itimes']] = df_Jan.apply(lambda row: myInterpFunc(row['Xcordo'],row['Ycordo'],row['Timemousecordso'], longestT), axis=1, result_type='expand')\n",
    "df_Feb[['iXcords','iYcords','itimes']] = df_Feb.apply(lambda row: myInterpFunc(row['Xcordo'],row['Ycordo'],row['Timemousecordso'], longestT), axis=1, result_type='expand')"
   ]
  },
  {
   "cell_type": "code",
   "execution_count": null,
   "metadata": {},
   "outputs": [],
   "source": []
  }
 ],
 "metadata": {
  "kernelspec": {
   "display_name": "Python 3",
   "language": "python",
   "name": "python3"
  },
  "language_info": {
   "codemirror_mode": {
    "name": "ipython",
    "version": 3
   },
   "file_extension": ".py",
   "mimetype": "text/x-python",
   "name": "python",
   "nbconvert_exporter": "python",
   "pygments_lexer": "ipython3",
   "version": "3.8.5"
  }
 },
 "nbformat": 4,
 "nbformat_minor": 4
}
